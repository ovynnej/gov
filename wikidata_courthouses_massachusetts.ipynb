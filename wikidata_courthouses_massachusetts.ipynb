{
 "cells": [
  {
   "cell_type": "markdown",
   "metadata": {},
   "source": [
    "# Objective\n",
    "\n",
    "Test out querying Wikidata from a Jupyter notebook.\n",
    "\n",
    "Query Wikidata: https://query.wikidata.org/\n",
    "\n",
    "# Links\n",
    "\n",
    "List of courthouses in Massachussets: https://www.mass.gov/guides/alphabetical-listing-of-courthouses"
   ]
  },
  {
   "cell_type": "code",
   "execution_count": 1,
   "metadata": {},
   "outputs": [],
   "source": [
    "import requests\n",
    "from bs4 import BeautifulSoup as BS\n",
    "import urllib.request"
   ]
  },
  {
   "cell_type": "markdown",
   "metadata": {},
   "source": [
    "This query string queries every building that `is an instance of` `courthouse` and `in the administrative territorial entity of` `Massachussets`."
   ]
  },
  {
   "cell_type": "code",
   "execution_count": 3,
   "metadata": {},
   "outputs": [],
   "source": [
    "url = 'https://query.wikidata.org/sparql'\n",
    "query = \"\"\"\n",
    "SELECT ?building ?buildingLabel\n",
    "WHERE\n",
    "{\n",
    "  ?building wdt:P31 wd:Q1137809;\n",
    "            wdt:P131 wd:Q771.  \n",
    "  SERVICE wikibase:label { bd:serviceParam wikibase:language \"[AUTO_LANGUAGE]\".}\n",
    "}\n",
    "\"\"\""
   ]
  },
  {
   "cell_type": "code",
   "execution_count": 4,
   "metadata": {},
   "outputs": [],
   "source": [
    "r = requests.get(url, params = {'format': 'json', 'query': query})\n",
    "data = r.json()\n",
    "bindings = data['results']['bindings']\n",
    "qnums = [binding['buildingLabel']['value'] for binding in bindings]"
   ]
  },
  {
   "cell_type": "code",
   "execution_count": 5,
   "metadata": {},
   "outputs": [],
   "source": [
    "titles = []\n",
    "for qnum in qnums:\n",
    "    url =\"https://www.wikidata.org/wiki/%s\" % qnum\n",
    "    usock = urllib.request.urlopen(url)\n",
    "    data = usock.read()\n",
    "    usock.close()\n",
    "    soup = BS(data)\n",
    "    titles.append(soup.find('title').text)"
   ]
  },
  {
   "cell_type": "code",
   "execution_count": 6,
   "metadata": {},
   "outputs": [
    {
     "data": {
      "text/plain": [
       "'Bristol County Courthouse Complex - Wikidata'"
      ]
     },
     "execution_count": 6,
     "metadata": {},
     "output_type": "execute_result"
    }
   ],
   "source": [
    "titles[0]"
   ]
  },
  {
   "cell_type": "code",
   "execution_count": 7,
   "metadata": {},
   "outputs": [],
   "source": [
    "names = [title[:-11] for title in titles]"
   ]
  },
  {
   "cell_type": "code",
   "execution_count": 8,
   "metadata": {},
   "outputs": [
    {
     "data": {
      "text/plain": [
       "['Bristol County Courthouse Complex',\n",
       " 'Eastern Middlesex County Second District Court']"
      ]
     },
     "execution_count": 8,
     "metadata": {},
     "output_type": "execute_result"
    }
   ],
   "source": [
    "names"
   ]
  }
 ],
 "metadata": {
  "kernelspec": {
   "display_name": "Python 3",
   "language": "python",
   "name": "python3"
  },
  "language_info": {
   "codemirror_mode": {
    "name": "ipython",
    "version": 3
   },
   "file_extension": ".py",
   "mimetype": "text/x-python",
   "name": "python",
   "nbconvert_exporter": "python",
   "pygments_lexer": "ipython3",
   "version": "3.8.2"
  }
 },
 "nbformat": 4,
 "nbformat_minor": 4
}
