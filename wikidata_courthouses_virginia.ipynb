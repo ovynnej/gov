{
 "cells": [
  {
   "cell_type": "markdown",
   "metadata": {},
   "source": [
    "# Objective\n",
    "\n",
    "Test out querying Wikidata from a Jupyter notebook on Virginia courthouses.\n",
    "\n",
    "# Conclusions\n",
    "\n",
    "#### This method of querying Wikidata:\n",
    "\n",
    "Clean and easy.\n",
    "\n",
    "#### Comprehensiveness of Wikidata on Virginia courthouses:\n",
    "\n",
    "According to Wikipedia there are 28 US federal courthouses, 67 county courthouses, and 73 courthouses on the Natl. Register of Historic Places in Virginia.\n",
    "\n",
    "Since our Wikidata query only returns 13 entities, it seems that Wikidata is not that good for Virginia courthouses.\n",
    "\n",
    "# Links\n",
    "\n",
    "Query Wikidata: https://query.wikidata.org/\n",
    "\n",
    "List of US federal courthouses in Virginia (28 entries): https://en.wikipedia.org/wiki/List_of_United_States_federal_courthouses_in_Virginia\n",
    "- Many of these are no longer in use.\n",
    "\n",
    "List of county courthouses in Virginia (67 entries): https://en.wikipedia.org/wiki/Category:County_courthouses_in_Virginia\n",
    "\n",
    "Courthouses on the Natl. Register of Historic Places in Virginia (73 entries): https://en.wikipedia.org/wiki/Category:Courthouses_on_the_National_Register_of_Historic_Places_in_Virginia"
   ]
  },
  {
   "cell_type": "code",
   "execution_count": 41,
   "metadata": {},
   "outputs": [],
   "source": [
    "import requests\n",
    "from bs4 import BeautifulSoup as BS\n",
    "import urllib.request"
   ]
  },
  {
   "cell_type": "markdown",
   "metadata": {},
   "source": [
    "This query string queries every building that `is an instance of` `courthouse` and `in the administrative territorial entity of` `Virginia`."
   ]
  },
  {
   "cell_type": "code",
   "execution_count": 12,
   "metadata": {},
   "outputs": [],
   "source": [
    "url = 'https://query.wikidata.org/sparql'\n",
    "query = \"\"\"\n",
    "SELECT ?building ?buildingLabel\n",
    "WHERE\n",
    "{\n",
    "  ?building wdt:P31 wd:Q1137809;\n",
    "            wdt:P131 wd:Q1370.  \n",
    "  SERVICE wikibase:label { bd:serviceParam wikibase:language \"[AUTO_LANGUAGE]\".}\n",
    "}\n",
    "\"\"\""
   ]
  },
  {
   "cell_type": "code",
   "execution_count": 13,
   "metadata": {},
   "outputs": [],
   "source": [
    "r = requests.get(url, params = {'format': 'json', 'query': query})"
   ]
  },
  {
   "cell_type": "code",
   "execution_count": 42,
   "metadata": {},
   "outputs": [],
   "source": [
    "data = r.json()"
   ]
  },
  {
   "cell_type": "code",
   "execution_count": 43,
   "metadata": {
    "scrolled": false
   },
   "outputs": [],
   "source": [
    "bindings = data['results']['bindings']"
   ]
  },
  {
   "cell_type": "code",
   "execution_count": 44,
   "metadata": {},
   "outputs": [],
   "source": [
    "qnums = [binding['buildingLabel']['value'] for binding in bindings]"
   ]
  },
  {
   "cell_type": "code",
   "execution_count": 48,
   "metadata": {},
   "outputs": [],
   "source": [
    "titles = []\n",
    "for qnum in qnums:\n",
    "    url =\"https://www.wikidata.org/wiki/%s\" % qnum\n",
    "    usock = urllib.request.urlopen(url)\n",
    "    data = usock.read()\n",
    "    usock.close()\n",
    "    soup = BS(data)\n",
    "    titles.append(soup.find('title').text)"
   ]
  },
  {
   "cell_type": "code",
   "execution_count": 52,
   "metadata": {},
   "outputs": [
    {
     "data": {
      "text/plain": [
       "'Dinwiddie County Court House - Wikidata'"
      ]
     },
     "execution_count": 52,
     "metadata": {},
     "output_type": "execute_result"
    }
   ],
   "source": [
    "titles[0]"
   ]
  },
  {
   "cell_type": "code",
   "execution_count": 49,
   "metadata": {},
   "outputs": [],
   "source": [
    "names = [title[:-11] for title in titles]"
   ]
  },
  {
   "cell_type": "code",
   "execution_count": 50,
   "metadata": {},
   "outputs": [
    {
     "data": {
      "text/plain": [
       "['Dinwiddie County Court House',\n",
       " 'Old Isle of Wight Courthouse',\n",
       " 'Appomattox Court House',\n",
       " 'United States Post Office and Courthouse',\n",
       " 'Brunswick County Courthouse Square',\n",
       " 'Buckingham Courthouse Historic District',\n",
       " 'Gloucester County Courthouse Square Historic District',\n",
       " 'Goochland County Court Square',\n",
       " 'Lunenburg Courthouse Historic District',\n",
       " 'Mathews County Courthouse Square',\n",
       " \"Old Grayson County Courthouse and Clerk's Office\",\n",
       " 'Albemarle County Courthouse Historic District',\n",
       " 'Powhatan Courthouse Historic District']"
      ]
     },
     "execution_count": 50,
     "metadata": {},
     "output_type": "execute_result"
    }
   ],
   "source": [
    "names"
   ]
  }
 ],
 "metadata": {
  "kernelspec": {
   "display_name": "Python 3",
   "language": "python",
   "name": "python3"
  },
  "language_info": {
   "codemirror_mode": {
    "name": "ipython",
    "version": 3
   },
   "file_extension": ".py",
   "mimetype": "text/x-python",
   "name": "python",
   "nbconvert_exporter": "python",
   "pygments_lexer": "ipython3",
   "version": "3.8.2"
  }
 },
 "nbformat": 4,
 "nbformat_minor": 4
}
