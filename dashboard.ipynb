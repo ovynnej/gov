{
 "cells": [
  {
   "cell_type": "markdown",
   "metadata": {},
   "source": [
    "# Dashboard\n",
    "\n",
    "Track improvement of database versions for several limited datasets."
   ]
  },
  {
   "cell_type": "code",
   "execution_count": 1,
   "metadata": {},
   "outputs": [],
   "source": [
    "import io, requests\n",
    "import pandas as pd\n",
    "from datetime import date\n",
    "from htmldate import find_date\n",
    "import matplotlib.pyplot as plt\n",
    "from matplotlib.lines import Line2D"
   ]
  },
  {
   "cell_type": "markdown",
   "metadata": {},
   "source": [
    "# Functions"
   ]
  },
  {
   "cell_type": "markdown",
   "metadata": {},
   "source": [
    "### Check whether updates are needed\n",
    "\n",
    "**Inputs**: \n",
    "- URL to the landing page for a csv file that we know has address data for government buildings\n",
    "- date last pulled\n",
    "\n",
    "**Output**:\n",
    "- boolean indicating whether an update is needed"
   ]
  },
  {
   "cell_type": "code",
   "execution_count": 2,
   "metadata": {},
   "outputs": [],
   "source": [
    "def needs_update(url, date_last_pulled):\n",
    "    date_last_updated = find_date(url)\n",
    "    return date_last_updated > date_last_pulled"
   ]
  },
  {
   "cell_type": "markdown",
   "metadata": {},
   "source": [
    "### Get addresses\n",
    "\n",
    "**Input**: URL to a csv file that we know has address data for government buildings\n",
    "\n",
    "**Output**: list of addresses from the file"
   ]
  },
  {
   "cell_type": "code",
   "execution_count": 3,
   "metadata": {},
   "outputs": [],
   "source": [
    "def get_addresses(url):\n",
    "    s = requests.get(url).content\n",
    "    df = pd.read_csv(io.StringIO(s.decode('utf-8')))\n",
    "\n",
    "    address_col_names = []\n",
    "    for x in df.columns:\n",
    "        if 'address' in x.lower():\n",
    "            address_col_names.append(x)\n",
    "\n",
    "    for address_col_name in address_col_names:\n",
    "        print(list(df[address_col_name]))"
   ]
  },
  {
   "cell_type": "markdown",
   "metadata": {},
   "source": [
    "# Dashboard"
   ]
  },
  {
   "cell_type": "markdown",
   "metadata": {},
   "source": [
    "### Check whether ground truth data needs to be pulled again"
   ]
  },
  {
   "cell_type": "code",
   "execution_count": 11,
   "metadata": {},
   "outputs": [
    {
     "name": "stdout",
     "output_type": "stream",
     "text": [
      "False\n",
      "False\n",
      "False\n"
     ]
    }
   ],
   "source": [
    "date_last_pulled = str(date.today())\n",
    "\n",
    "for landing_url in [cdtfa_landing_url, dgs_landing_url, dds_landing_url]:\n",
    "    print(needs_update(landing_url, date_last_pulled))"
   ]
  },
  {
   "cell_type": "markdown",
   "metadata": {},
   "source": [
    "## Load ground truth data\n",
    "\n",
    "From government open data sites"
   ]
  },
  {
   "cell_type": "code",
   "execution_count": 105,
   "metadata": {},
   "outputs": [],
   "source": [
    "# CA Dept. of Tax and Fee Administration Offices\n",
    "cdtfa_data_url = 'http://data-cdtfa.opendata.arcgis.com/datasets/6b7ab4e55a2d463db9e902c2496c6e37_0.csv?outSR=%7B%22latestWkid%22%3A3857%2C%22wkid%22%3A102100%7D'\n",
    "cdtfa_landing_url = 'https://data.ca.gov/dataset/cdtfa-offices'\n",
    "\n",
    "# CA Dept. of Developmental Services Regional Centers\n",
    "dds_data_url = 'https://data.chhs.ca.gov/dataset/0e68b593-183d-41d0-80e0-7e828d99a22d/resource/369ea9be-077f-423d-b10d-09022e3fda9f/download/regional-center-information.csv'\n",
    "dds_landing_url = 'https://data.ca.gov/dataset/regional-center-information'\n",
    "\n",
    "# MI Secretary of State Branch Offices\n",
    "misos_data_path = './ground_truth/MISOS_Branches.csv'"
   ]
  },
  {
   "cell_type": "code",
   "execution_count": 112,
   "metadata": {
    "scrolled": false
   },
   "outputs": [
    {
     "name": "stdout",
     "output_type": "stream",
     "text": [
      "total df length: 26\n"
     ]
    },
    {
     "data": {
      "text/html": [
       "<div>\n",
       "<style scoped>\n",
       "    .dataframe tbody tr th:only-of-type {\n",
       "        vertical-align: middle;\n",
       "    }\n",
       "\n",
       "    .dataframe tbody tr th {\n",
       "        vertical-align: top;\n",
       "    }\n",
       "\n",
       "    .dataframe thead th {\n",
       "        text-align: right;\n",
       "    }\n",
       "</style>\n",
       "<table border=\"1\" class=\"dataframe\">\n",
       "  <thead>\n",
       "    <tr style=\"text-align: right;\">\n",
       "      <th></th>\n",
       "      <th>X</th>\n",
       "      <th>Y</th>\n",
       "      <th>OBJECTID</th>\n",
       "      <th>doid</th>\n",
       "      <th>city</th>\n",
       "      <th>address1</th>\n",
       "      <th>address2</th>\n",
       "      <th>state</th>\n",
       "      <th>zip</th>\n",
       "      <th>phone</th>\n",
       "      <th>fax</th>\n",
       "      <th>directions</th>\n",
       "      <th>comments</th>\n",
       "      <th>type</th>\n",
       "      <th>DISTRICT_OF_LOC</th>\n",
       "      <th>OfficeType</th>\n",
       "    </tr>\n",
       "  </thead>\n",
       "  <tbody>\n",
       "    <tr>\n",
       "      <th>0</th>\n",
       "      <td>-1.324950e+07</td>\n",
       "      <td>4.216651e+06</td>\n",
       "      <td>1</td>\n",
       "      <td>1</td>\n",
       "      <td>Bakersfield</td>\n",
       "      <td>1800 30th St</td>\n",
       "      <td>Suite 380</td>\n",
       "      <td>CA</td>\n",
       "      <td>93301-1922</td>\n",
       "      <td>(661) 395-2880</td>\n",
       "      <td>(661) 395-2588</td>\n",
       "      <td>https://www.google.com/maps/dir//1800+30th+St,...</td>\n",
       "      <td>Bakersfield</td>\n",
       "      <td>in</td>\n",
       "      <td>DFB</td>\n",
       "      <td>Bakersfield</td>\n",
       "    </tr>\n",
       "    <tr>\n",
       "      <th>1</th>\n",
       "      <td>-1.314243e+07</td>\n",
       "      <td>4.011057e+06</td>\n",
       "      <td>2</td>\n",
       "      <td>6</td>\n",
       "      <td>Cerritos</td>\n",
       "      <td>12750 Center Court Drive South</td>\n",
       "      <td>Ste. 400</td>\n",
       "      <td>CA</td>\n",
       "      <td>90703-8594</td>\n",
       "      <td>(562) 356-1102</td>\n",
       "      <td>(562) 402-8503</td>\n",
       "      <td>https://www.google.com/maps/dir//12750+Center+...</td>\n",
       "      <td>Cerritos</td>\n",
       "      <td>in</td>\n",
       "      <td>AA</td>\n",
       "      <td>Cerritos</td>\n",
       "    </tr>\n",
       "    <tr>\n",
       "      <th>2</th>\n",
       "      <td>-1.317931e+07</td>\n",
       "      <td>4.026731e+06</td>\n",
       "      <td>3</td>\n",
       "      <td>2</td>\n",
       "      <td>Culver City</td>\n",
       "      <td>5901 Green Valley Circle</td>\n",
       "      <td>Ste. 200</td>\n",
       "      <td>CA</td>\n",
       "      <td>90230-6948</td>\n",
       "      <td>(310) 342-1000</td>\n",
       "      <td>(310) 342-1061</td>\n",
       "      <td>https://www.google.com/maps/dir//5901+Green+Va...</td>\n",
       "      <td>Culver City</td>\n",
       "      <td>in</td>\n",
       "      <td>AS</td>\n",
       "      <td>Culver City</td>\n",
       "    </tr>\n",
       "    <tr>\n",
       "      <th>3</th>\n",
       "      <td>-1.286559e+07</td>\n",
       "      <td>3.867842e+06</td>\n",
       "      <td>4</td>\n",
       "      <td>3</td>\n",
       "      <td>El Centro</td>\n",
       "      <td>1550 West Main St.</td>\n",
       "      <td></td>\n",
       "      <td>CA</td>\n",
       "      <td>92243-2832</td>\n",
       "      <td>(760) 352-3431</td>\n",
       "      <td>(760) 352-8149</td>\n",
       "      <td>https://www.google.com/maps/dir//1550+W+Main+S...</td>\n",
       "      <td>El Centro</td>\n",
       "      <td>in</td>\n",
       "      <td>FHA</td>\n",
       "      <td>El Centro</td>\n",
       "    </tr>\n",
       "    <tr>\n",
       "      <th>4</th>\n",
       "      <td>-1.358663e+07</td>\n",
       "      <td>4.618437e+06</td>\n",
       "      <td>5</td>\n",
       "      <td>32</td>\n",
       "      <td>Fairfield</td>\n",
       "      <td>2480 Hilborn Road</td>\n",
       "      <td>Suite 200</td>\n",
       "      <td>CA</td>\n",
       "      <td>94534</td>\n",
       "      <td>(707) 427-4800</td>\n",
       "      <td>(707) 427-4815</td>\n",
       "      <td>https://www.google.com/maps/dir//2480+Hilborn+...</td>\n",
       "      <td>Fairfield</td>\n",
       "      <td>in</td>\n",
       "      <td>JHF</td>\n",
       "      <td>Fairfield</td>\n",
       "    </tr>\n",
       "  </tbody>\n",
       "</table>\n",
       "</div>"
      ],
      "text/plain": [
       "              X             Y  OBJECTID  doid         city  \\\n",
       "0 -1.324950e+07  4.216651e+06         1     1  Bakersfield   \n",
       "1 -1.314243e+07  4.011057e+06         2     6     Cerritos   \n",
       "2 -1.317931e+07  4.026731e+06         3     2  Culver City   \n",
       "3 -1.286559e+07  3.867842e+06         4     3    El Centro   \n",
       "4 -1.358663e+07  4.618437e+06         5    32    Fairfield   \n",
       "\n",
       "                         address1   address2 state         zip  \\\n",
       "0                    1800 30th St  Suite 380    CA  93301-1922   \n",
       "1  12750 Center Court Drive South   Ste. 400    CA  90703-8594   \n",
       "2        5901 Green Valley Circle   Ste. 200    CA  90230-6948   \n",
       "3              1550 West Main St.               CA  92243-2832   \n",
       "4               2480 Hilborn Road  Suite 200    CA       94534   \n",
       "\n",
       "            phone             fax  \\\n",
       "0  (661) 395-2880  (661) 395-2588   \n",
       "1  (562) 356-1102  (562) 402-8503   \n",
       "2  (310) 342-1000  (310) 342-1061   \n",
       "3  (760) 352-3431  (760) 352-8149   \n",
       "4  (707) 427-4800  (707) 427-4815   \n",
       "\n",
       "                                          directions     comments type  \\\n",
       "0  https://www.google.com/maps/dir//1800+30th+St,...  Bakersfield   in   \n",
       "1  https://www.google.com/maps/dir//12750+Center+...     Cerritos   in   \n",
       "2  https://www.google.com/maps/dir//5901+Green+Va...  Culver City   in   \n",
       "3  https://www.google.com/maps/dir//1550+W+Main+S...    El Centro   in   \n",
       "4  https://www.google.com/maps/dir//2480+Hilborn+...    Fairfield   in   \n",
       "\n",
       "  DISTRICT_OF_LOC   OfficeType  \n",
       "0             DFB  Bakersfield  \n",
       "1              AA     Cerritos  \n",
       "2              AS  Culver City  \n",
       "3             FHA    El Centro  \n",
       "4             JHF    Fairfield  "
      ]
     },
     "execution_count": 112,
     "metadata": {},
     "output_type": "execute_result"
    }
   ],
   "source": [
    "s = requests.get(cdtfa_data_url).content\n",
    "df_cdtfa_gt = pd.read_csv(io.StringIO(s.decode('utf-8')))\n",
    "print('total df length: %s' % str(len(df_cdtfa_gt)))\n",
    "df_cdtfa_gt.head()"
   ]
  },
  {
   "cell_type": "code",
   "execution_count": 113,
   "metadata": {},
   "outputs": [
    {
     "name": "stdout",
     "output_type": "stream",
     "text": [
      "total df length: 135\n"
     ]
    },
    {
     "data": {
      "text/html": [
       "<div>\n",
       "<style scoped>\n",
       "    .dataframe tbody tr th:only-of-type {\n",
       "        vertical-align: middle;\n",
       "    }\n",
       "\n",
       "    .dataframe tbody tr th {\n",
       "        vertical-align: top;\n",
       "    }\n",
       "\n",
       "    .dataframe thead th {\n",
       "        text-align: right;\n",
       "    }\n",
       "</style>\n",
       "<table border=\"1\" class=\"dataframe\">\n",
       "  <thead>\n",
       "    <tr style=\"text-align: right;\">\n",
       "      <th></th>\n",
       "      <th>Regional Center</th>\n",
       "      <th>Office</th>\n",
       "      <th>Address</th>\n",
       "      <th>Suite</th>\n",
       "      <th>City</th>\n",
       "      <th>State</th>\n",
       "      <th>Zip Code</th>\n",
       "      <th>Telephone</th>\n",
       "      <th>Website</th>\n",
       "      <th>County Served</th>\n",
       "      <th>Los Angeles Health District Served</th>\n",
       "      <th>Location 1</th>\n",
       "    </tr>\n",
       "  </thead>\n",
       "  <tbody>\n",
       "    <tr>\n",
       "      <th>0</th>\n",
       "      <td>Far Northern Regional Center</td>\n",
       "      <td>Field</td>\n",
       "      <td>421 Chestnut Street</td>\n",
       "      <td>NaN</td>\n",
       "      <td>Mt. Shasta</td>\n",
       "      <td>CA</td>\n",
       "      <td>96067</td>\n",
       "      <td>(530) 222-4791</td>\n",
       "      <td>www.farnorthernrc.org</td>\n",
       "      <td>NaN</td>\n",
       "      <td>NaN</td>\n",
       "      <td>421 Chestnut Street\\nMt. Shasta 96067\\n(41.315...</td>\n",
       "    </tr>\n",
       "    <tr>\n",
       "      <th>1</th>\n",
       "      <td>North Bay Regional Center</td>\n",
       "      <td>Main</td>\n",
       "      <td>610 Airpark Road</td>\n",
       "      <td>NaN</td>\n",
       "      <td>Napa</td>\n",
       "      <td>CA</td>\n",
       "      <td>94558</td>\n",
       "      <td>(707) 256-1100</td>\n",
       "      <td>www.nbrc.net</td>\n",
       "      <td>Solano</td>\n",
       "      <td>NaN</td>\n",
       "      <td>610 Airpark Road\\nNapa 94558\\n(38.218198, -122...</td>\n",
       "    </tr>\n",
       "    <tr>\n",
       "      <th>2</th>\n",
       "      <td>San Andreas Regional Center</td>\n",
       "      <td>Main</td>\n",
       "      <td>300 Orchard City Drive</td>\n",
       "      <td>Ste. 170</td>\n",
       "      <td>Campbell</td>\n",
       "      <td>CA</td>\n",
       "      <td>95008</td>\n",
       "      <td>(408) 374-9960</td>\n",
       "      <td>www.sarc.org</td>\n",
       "      <td>Santa Clara</td>\n",
       "      <td>NaN</td>\n",
       "      <td>300 Orchard City Drive\\nCampbell 95008\\n(37.28...</td>\n",
       "    </tr>\n",
       "    <tr>\n",
       "      <th>3</th>\n",
       "      <td>Regional Center of Orange County</td>\n",
       "      <td>Mailing</td>\n",
       "      <td>P.O Box 22010</td>\n",
       "      <td>NaN</td>\n",
       "      <td>Santa Ana</td>\n",
       "      <td>CA</td>\n",
       "      <td>92702</td>\n",
       "      <td>(714) 796-5100</td>\n",
       "      <td>www.rcocdd.com</td>\n",
       "      <td>NaN</td>\n",
       "      <td>NaN</td>\n",
       "      <td>P.O Box 22010\\nSanta Ana 92702\\n</td>\n",
       "    </tr>\n",
       "    <tr>\n",
       "      <th>4</th>\n",
       "      <td>Inland Regional Center</td>\n",
       "      <td>Main</td>\n",
       "      <td>1365 South Waterman Avenue</td>\n",
       "      <td>NaN</td>\n",
       "      <td>San Bernardino</td>\n",
       "      <td>CA</td>\n",
       "      <td>92408</td>\n",
       "      <td>(909) 890-3000</td>\n",
       "      <td>www.inlandrc.org</td>\n",
       "      <td>San Bernardino</td>\n",
       "      <td>NaN</td>\n",
       "      <td>1365 South Waterman Avenue\\nSan Bernardino 924...</td>\n",
       "    </tr>\n",
       "  </tbody>\n",
       "</table>\n",
       "</div>"
      ],
      "text/plain": [
       "                    Regional Center   Office                     Address  \\\n",
       "0      Far Northern Regional Center    Field         421 Chestnut Street   \n",
       "1         North Bay Regional Center     Main            610 Airpark Road   \n",
       "2       San Andreas Regional Center     Main      300 Orchard City Drive   \n",
       "3  Regional Center of Orange County  Mailing               P.O Box 22010   \n",
       "4            Inland Regional Center     Main  1365 South Waterman Avenue   \n",
       "\n",
       "      Suite            City State  Zip Code       Telephone  \\\n",
       "0       NaN      Mt. Shasta    CA     96067  (530) 222-4791   \n",
       "1       NaN            Napa    CA     94558  (707) 256-1100   \n",
       "2  Ste. 170        Campbell    CA     95008  (408) 374-9960   \n",
       "3       NaN       Santa Ana    CA     92702  (714) 796-5100   \n",
       "4       NaN  San Bernardino    CA     92408  (909) 890-3000   \n",
       "\n",
       "                 Website   County Served Los Angeles Health District Served  \\\n",
       "0  www.farnorthernrc.org             NaN                                NaN   \n",
       "1           www.nbrc.net          Solano                                NaN   \n",
       "2           www.sarc.org     Santa Clara                                NaN   \n",
       "3         www.rcocdd.com             NaN                                NaN   \n",
       "4       www.inlandrc.org  San Bernardino                                NaN   \n",
       "\n",
       "                                          Location 1  \n",
       "0  421 Chestnut Street\\nMt. Shasta 96067\\n(41.315...  \n",
       "1  610 Airpark Road\\nNapa 94558\\n(38.218198, -122...  \n",
       "2  300 Orchard City Drive\\nCampbell 95008\\n(37.28...  \n",
       "3                   P.O Box 22010\\nSanta Ana 92702\\n  \n",
       "4  1365 South Waterman Avenue\\nSan Bernardino 924...  "
      ]
     },
     "execution_count": 113,
     "metadata": {},
     "output_type": "execute_result"
    }
   ],
   "source": [
    "s = requests.get(dds_data_url).content\n",
    "df_dds_gt = pd.read_csv(io.StringIO(s.decode('utf-8')))\n",
    "print('total df length: %s' % str(len(df_dds_gt)))\n",
    "df_dds_gt.head()"
   ]
  },
  {
   "cell_type": "code",
   "execution_count": 114,
   "metadata": {},
   "outputs": [
    {
     "name": "stdout",
     "output_type": "stream",
     "text": [
      "total df length: 131\n"
     ]
    },
    {
     "data": {
      "text/html": [
       "<div>\n",
       "<style scoped>\n",
       "    .dataframe tbody tr th:only-of-type {\n",
       "        vertical-align: middle;\n",
       "    }\n",
       "\n",
       "    .dataframe tbody tr th {\n",
       "        vertical-align: top;\n",
       "    }\n",
       "\n",
       "    .dataframe thead th {\n",
       "        text-align: right;\n",
       "    }\n",
       "</style>\n",
       "<table border=\"1\" class=\"dataframe\">\n",
       "  <thead>\n",
       "    <tr style=\"text-align: right;\">\n",
       "      <th></th>\n",
       "      <th>name</th>\n",
       "      <th>address</th>\n",
       "    </tr>\n",
       "  </thead>\n",
       "  <tbody>\n",
       "    <tr>\n",
       "      <th>0</th>\n",
       "      <td>Adrian</td>\n",
       "      <td>1040 S Winter Ste 2200, Adrian, MI 49221</td>\n",
       "    </tr>\n",
       "    <tr>\n",
       "      <th>1</th>\n",
       "      <td>Albion</td>\n",
       "      <td>308 S Superior St, Albion, MI 49224</td>\n",
       "    </tr>\n",
       "    <tr>\n",
       "      <th>2</th>\n",
       "      <td>Allegan</td>\n",
       "      <td>430 Western Ave, Allegan, MI 49010</td>\n",
       "    </tr>\n",
       "    <tr>\n",
       "      <th>3</th>\n",
       "      <td>Alma</td>\n",
       "      <td>1586 Wright Ave, Alma, MI 48801</td>\n",
       "    </tr>\n",
       "    <tr>\n",
       "      <th>4</th>\n",
       "      <td>Alpena</td>\n",
       "      <td>2666 US 23 South, Alpena, MI 49707</td>\n",
       "    </tr>\n",
       "  </tbody>\n",
       "</table>\n",
       "</div>"
      ],
      "text/plain": [
       "      name                                   address\n",
       "0   Adrian  1040 S Winter Ste 2200, Adrian, MI 49221\n",
       "1   Albion       308 S Superior St, Albion, MI 49224\n",
       "2  Allegan        430 Western Ave, Allegan, MI 49010\n",
       "3     Alma           1586 Wright Ave, Alma, MI 48801\n",
       "4   Alpena        2666 US 23 South, Alpena, MI 49707"
      ]
     },
     "execution_count": 114,
     "metadata": {},
     "output_type": "execute_result"
    }
   ],
   "source": [
    "df_misos_gt = pd.read_csv(misos_data_path)\n",
    "print('total df length: %s' % str(len(df_misos_gt)))\n",
    "df_misos_gt.head()"
   ]
  },
  {
   "cell_type": "markdown",
   "metadata": {},
   "source": [
    "# Precision and recall dashboards"
   ]
  },
  {
   "cell_type": "code",
   "execution_count": 3,
   "metadata": {},
   "outputs": [],
   "source": [
    "def show_dashboard(name, precision_recall_path):\n",
    "\n",
    "    precision_recall_df = pd.read_csv(precision_recall_path)\n",
    "    precision = list(precision_recall_df.precision)\n",
    "    recall = list(precision_recall_df.recall)\n",
    "    version_indices = list(precision_recall_df.index)\n",
    "\n",
    "    plt.figure(figsize=(10,4))\n",
    "    plt.scatter(version_indices, precision, color='blue')\n",
    "    plt.scatter(version_indices, recall, color='orange')\n",
    "\n",
    "    handle1 = Line2D([0],[0], marker='o', markerfacecolor='blue',\n",
    "                     color='w',markersize=8, label='precision')\n",
    "    handle2 = Line2D([0],[0], marker='o', markerfacecolor='orange',\n",
    "                     color='w', markersize=8, label='recall')\n",
    "    plt.legend(handles=[handle1, handle2], loc='upper right')\n",
    "    plt.xlabel('Database Version')\n",
    "    plt.ylabel('Precision and Recall')\n",
    "    xmax = 10\n",
    "    plt.xticks(range(xmax+1))\n",
    "    plt.xlim(-0.5, xmax+0.5)\n",
    "    plt.ylim(-0.1, 1.1)\n",
    "    plot_title = name\n",
    "    plt.title(plot_title)\n",
    "    plt.show()"
   ]
  },
  {
   "cell_type": "markdown",
   "metadata": {},
   "source": [
    "## CA Dept. of Tax and Fees Administration Offices"
   ]
  },
  {
   "cell_type": "code",
   "execution_count": 80,
   "metadata": {},
   "outputs": [
    {
     "data": {
      "image/png": "[encoded data removed]",
      "text/plain": [
       "<Figure size 720x288 with 1 Axes>"
      ]
     },
     "metadata": {
      "needs_background": "light"
     },
     "output_type": "display_data"
    }
   ],
   "source": [
    "precision_recall_path = './precision_recall/CDTFA_precision_recall.csv'\n",
    "name = 'CA Dept. of Tax and Fees Administration Offices'\n",
    "show_dashboard(name, precision_recall_path)"
   ]
  },
  {
   "cell_type": "markdown",
   "metadata": {},
   "source": [
    "#### Version notes:\n",
    "\n",
    "v0\n",
    "- yellow pages query = 'california+department+of+tax+and+fees+administration'\n",
    "- yellow pages location = 'CA'\n",
    "\n",
    "v1\n",
    "- yellow pages query = 'department+of+tax+and+fees+administration'\n",
    "- yellow pages location = 'CA'"
   ]
  },
  {
   "cell_type": "markdown",
   "metadata": {},
   "source": [
    "## CA Dept. of Developmental Services Regional Centers"
   ]
  },
  {
   "cell_type": "code",
   "execution_count": 4,
   "metadata": {},
   "outputs": [
    {
     "data": {
      "image/png": "[encoded data removed]",
      "text/plain": [
       "<Figure size 720x288 with 1 Axes>"
      ]
     },
     "metadata": {
      "needs_background": "light"
     },
     "output_type": "display_data"
    }
   ],
   "source": [
    "precision_recall_path = './precision_recall/CDDS_precision_recall.csv'\n",
    "name = 'CA Dept. of Developmental Services Regional Centers'\n",
    "show_dashboard(name, precision_recall_path)"
   ]
  },
  {
   "cell_type": "markdown",
   "metadata": {},
   "source": [
    "#### Version notes:\n",
    "\n",
    "v0\n",
    "- yellow pages query = 'department+of+developmental+services+regional+centers'\n",
    "- yellow pages location = 'CA'\n",
    "\n",
    "v1\n",
    "- yellow pages query = 'department+of+developmental+services'\n",
    "- yellow pages location = 'CA'\n",
    "\n",
    "v2\n",
    "- yellow pages query = 'developmental+services'\n",
    "- yellow pages location = 'CA'\n",
    "\n",
    "I did cross-check the center listings from the CA Open Data portal (which is used as ground truth for precision and recal) with the center listings at https://www.dds.ca.gov/rc/listings/"
   ]
  },
  {
   "cell_type": "markdown",
   "metadata": {},
   "source": [
    "## Michigan Secretary of State Offices"
   ]
  },
  {
   "cell_type": "code",
   "execution_count": 117,
   "metadata": {},
   "outputs": [
    {
     "data": {
      "image/png": "[encoded data removed]",
      "text/plain": [
       "<Figure size 720x288 with 1 Axes>"
      ]
     },
     "metadata": {
      "needs_background": "light"
     },
     "output_type": "display_data"
    }
   ],
   "source": [
    "precision_recall_path = './precision_recall/MISOS_precision_recall.csv'\n",
    "name = 'MI Secretary of State Offices'\n",
    "show_dashboard(name, precision_recall_path)"
   ]
  },
  {
   "cell_type": "markdown",
   "metadata": {},
   "source": [
    "#### Version notes:\n",
    "\n",
    "v0\n",
    "- yellow pages query = 'state+of+michigan+secretary+of+state'\n",
    "- yellow pages location = 'MI'\n",
    "- failed to process page\n",
    "\n",
    "v1\n",
    "- yellow pages query = 'state+of+michigan+secretary+of+state+office'\n",
    "- yellow pages location = 'MI'\n",
    "\n",
    "v3\n",
    "- yellow pages query = 'state+of+michigan+secretary+of+state+office'\n",
    "- yellow pages location = 'Ann+Arbor%2C+MI'\n",
    "- failed to process page\n",
    "\n",
    "v4\n",
    "- yellow pages query = 'state+of+michigan+secretary+of+state'\n",
    "- yellow pages location = 'Ann+Arbor%2C+MI'"
   ]
  },
  {
   "cell_type": "markdown",
   "metadata": {},
   "source": [
    "# Sandbox"
   ]
  },
  {
   "cell_type": "markdown",
   "metadata": {},
   "source": [
    "Collect raw data from https://michigansos.state.mi.us/servicelocator/mcgi.aspx# into csv\n"
   ]
  },
  {
   "cell_type": "code",
   "execution_count": 104,
   "metadata": {},
   "outputs": [],
   "source": [
    "df = pd.read_csv('./ground_truth/mi_sos_raw.csv', header=None)\n",
    "names, ad1, ad2 = [], [], []\n",
    "for i in range(len(df)):\n",
    "    if i % 3 != 0:\n",
    "        continue\n",
    "    names.append(df.iloc[i][0])\n",
    "    ad1.append(df.iloc[i+1][0])\n",
    "    ad2.append(df.iloc[i+2][0])\n",
    "ad = []\n",
    "for x, y in zip(ad1, ad2):\n",
    "    ad.append(x+', '+y)"
   ]
  }
 ],
 "metadata": {
  "kernelspec": {
   "display_name": "Python 3",
   "language": "python",
   "name": "python3"
  },
  "language_info": {
   "codemirror_mode": {
    "name": "ipython",
    "version": 3
   },
   "file_extension": ".py",
   "mimetype": "text/x-python",
   "name": "python",
   "nbconvert_exporter": "python",
   "pygments_lexer": "ipython3",
   "version": "3.8.2"
  }
 },
 "nbformat": 4,
 "nbformat_minor": 4
}
