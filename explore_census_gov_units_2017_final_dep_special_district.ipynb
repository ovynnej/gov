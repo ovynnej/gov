{
 "cells": [
  {
   "cell_type": "markdown",
   "metadata": {},
   "source": [
    "# Objective\n",
    "\n",
    "First look at the Govt_Units_2017_Final_DEP_Special_District sheet from the 2017 Census of Government (happens every 5 years). According to the documentation, this sheet contains data for all independent government units - specifically, special district governments.\n",
    "\n",
    "Source: https://www.census.gov/data/datasets/2017/econ/gus/public-use-files.html"
   ]
  },
  {
   "cell_type": "code",
   "execution_count": 1,
   "metadata": {},
   "outputs": [],
   "source": [
    "import matplotlib.pyplot as plt\n",
    "import numpy as np\n",
    "import pandas as pd"
   ]
  },
  {
   "cell_type": "code",
   "execution_count": 2,
   "metadata": {},
   "outputs": [],
   "source": [
    "path = 'Govt_Units_2017_Final_DEP_Special_District.csv'"
   ]
  },
  {
   "cell_type": "code",
   "execution_count": 3,
   "metadata": {},
   "outputs": [
    {
     "data": {
      "text/html": [
       "<div>\n",
       "<style scoped>\n",
       "    .dataframe tbody tr th:only-of-type {\n",
       "        vertical-align: middle;\n",
       "    }\n",
       "\n",
       "    .dataframe tbody tr th {\n",
       "        vertical-align: top;\n",
       "    }\n",
       "\n",
       "    .dataframe thead th {\n",
       "        text-align: right;\n",
       "    }\n",
       "</style>\n",
       "<table border=\"1\" class=\"dataframe\">\n",
       "  <thead>\n",
       "    <tr style=\"text-align: right;\">\n",
       "      <th></th>\n",
       "      <th>CENSUS_ID</th>\n",
       "      <th>NAME</th>\n",
       "      <th>TITLE</th>\n",
       "      <th>ADDRESS1</th>\n",
       "      <th>ADDRESS2</th>\n",
       "      <th>CITY</th>\n",
       "      <th>STATE_AB</th>\n",
       "      <th>ZIP</th>\n",
       "      <th>ZIP4</th>\n",
       "      <th>WEB_ADDRESS</th>\n",
       "      <th>ENROLLMENT</th>\n",
       "      <th>ENROLLMENT_YEAR</th>\n",
       "      <th>FIPS_STATE</th>\n",
       "      <th>FIPS_COUNTY</th>\n",
       "      <th>COUNTY_AREA_NAME</th>\n",
       "    </tr>\n",
       "  </thead>\n",
       "  <tbody>\n",
       "    <tr>\n",
       "      <th>0</th>\n",
       "      <td>2000000010100</td>\n",
       "      <td>MOUNT EDGECUMBE HIGH SCHOOL AGENCY</td>\n",
       "      <td>SUPERINTENDENT</td>\n",
       "      <td>1330 SEWARD AVENUE</td>\n",
       "      <td>NaN</td>\n",
       "      <td>SITKA</td>\n",
       "      <td>AK</td>\n",
       "      <td>99835</td>\n",
       "      <td>NaN</td>\n",
       "      <td>http://www.mehs.us/</td>\n",
       "      <td>426</td>\n",
       "      <td>2016</td>\n",
       "      <td>2</td>\n",
       "      <td>NaN</td>\n",
       "      <td>NaN</td>\n",
       "    </tr>\n",
       "    <tr>\n",
       "      <th>1</th>\n",
       "      <td>2000000030000</td>\n",
       "      <td>ALASKA GATEWAY REGIONAL EDUCATIONAL ATTENDANCE...</td>\n",
       "      <td>SUPT</td>\n",
       "      <td>PO BOX 226</td>\n",
       "      <td>NaN</td>\n",
       "      <td>TOK</td>\n",
       "      <td>AK</td>\n",
       "      <td>99780</td>\n",
       "      <td>NaN</td>\n",
       "      <td>http://tok.schoolaccess.net/</td>\n",
       "      <td>378</td>\n",
       "      <td>2016</td>\n",
       "      <td>2</td>\n",
       "      <td>NaN</td>\n",
       "      <td>NaN</td>\n",
       "    </tr>\n",
       "    <tr>\n",
       "      <th>2</th>\n",
       "      <td>2000000030100</td>\n",
       "      <td>ALEUTIAN REGION SCHOOL DISTRICT</td>\n",
       "      <td>SUPERINTENDENT</td>\n",
       "      <td>PO BOX 92230</td>\n",
       "      <td>NaN</td>\n",
       "      <td>ANCHORAGE</td>\n",
       "      <td>AK</td>\n",
       "      <td>99509</td>\n",
       "      <td>NaN</td>\n",
       "      <td>NaN</td>\n",
       "      <td>35</td>\n",
       "      <td>2016</td>\n",
       "      <td>2</td>\n",
       "      <td>NaN</td>\n",
       "      <td>NaN</td>\n",
       "    </tr>\n",
       "    <tr>\n",
       "      <th>3</th>\n",
       "      <td>2000000030200</td>\n",
       "      <td>KUSPUK REGIONAL EDUCATIONAL ATTENDANCE AREA (R...</td>\n",
       "      <td>SUPT</td>\n",
       "      <td>PO BOX 49</td>\n",
       "      <td>NaN</td>\n",
       "      <td>ANIAK</td>\n",
       "      <td>AK</td>\n",
       "      <td>99557</td>\n",
       "      <td>49.0</td>\n",
       "      <td>http://www.kuspuk.org/</td>\n",
       "      <td>410</td>\n",
       "      <td>2016</td>\n",
       "      <td>2</td>\n",
       "      <td>NaN</td>\n",
       "      <td>NaN</td>\n",
       "    </tr>\n",
       "    <tr>\n",
       "      <th>4</th>\n",
       "      <td>2000000030300</td>\n",
       "      <td>YUPIIT SCHOOLS</td>\n",
       "      <td>SUPERINTENDENT</td>\n",
       "      <td>PO BOX 51190</td>\n",
       "      <td>NaN</td>\n",
       "      <td>AKIACHAK</td>\n",
       "      <td>AK</td>\n",
       "      <td>99551</td>\n",
       "      <td>100.0</td>\n",
       "      <td>NaN</td>\n",
       "      <td>461</td>\n",
       "      <td>2016</td>\n",
       "      <td>2</td>\n",
       "      <td>NaN</td>\n",
       "      <td>NaN</td>\n",
       "    </tr>\n",
       "  </tbody>\n",
       "</table>\n",
       "</div>"
      ],
      "text/plain": [
       "       CENSUS_ID                                               NAME  \\\n",
       "0  2000000010100                 MOUNT EDGECUMBE HIGH SCHOOL AGENCY   \n",
       "1  2000000030000  ALASKA GATEWAY REGIONAL EDUCATIONAL ATTENDANCE...   \n",
       "2  2000000030100                    ALEUTIAN REGION SCHOOL DISTRICT   \n",
       "3  2000000030200  KUSPUK REGIONAL EDUCATIONAL ATTENDANCE AREA (R...   \n",
       "4  2000000030300                                     YUPIIT SCHOOLS   \n",
       "\n",
       "            TITLE            ADDRESS1 ADDRESS2       CITY STATE_AB    ZIP  \\\n",
       "0  SUPERINTENDENT  1330 SEWARD AVENUE      NaN      SITKA       AK  99835   \n",
       "1            SUPT          PO BOX 226      NaN        TOK       AK  99780   \n",
       "2  SUPERINTENDENT        PO BOX 92230      NaN  ANCHORAGE       AK  99509   \n",
       "3            SUPT           PO BOX 49      NaN      ANIAK       AK  99557   \n",
       "4  SUPERINTENDENT        PO BOX 51190      NaN   AKIACHAK       AK  99551   \n",
       "\n",
       "    ZIP4                   WEB_ADDRESS ENROLLMENT  ENROLLMENT_YEAR  \\\n",
       "0    NaN           http://www.mehs.us/        426             2016   \n",
       "1    NaN  http://tok.schoolaccess.net/        378             2016   \n",
       "2    NaN                           NaN         35             2016   \n",
       "3   49.0        http://www.kuspuk.org/        410             2016   \n",
       "4  100.0                           NaN        461             2016   \n",
       "\n",
       "   FIPS_STATE  FIPS_COUNTY COUNTY_AREA_NAME  \n",
       "0           2          NaN              NaN  \n",
       "1           2          NaN              NaN  \n",
       "2           2          NaN              NaN  \n",
       "3           2          NaN              NaN  \n",
       "4           2          NaN              NaN  "
      ]
     },
     "execution_count": 3,
     "metadata": {},
     "output_type": "execute_result"
    }
   ],
   "source": [
    "df = pd.read_csv(path)\n",
    "df.head()"
   ]
  },
  {
   "cell_type": "code",
   "execution_count": 4,
   "metadata": {},
   "outputs": [
    {
     "data": {
      "text/plain": [
       "Index(['CENSUS_ID', 'NAME', 'TITLE', 'ADDRESS1', 'ADDRESS2', 'CITY',\n",
       "       'STATE_AB', 'ZIP', 'ZIP4', 'WEB_ADDRESS', 'ENROLLMENT',\n",
       "       'ENROLLMENT_YEAR', 'FIPS_STATE', 'FIPS_COUNTY', 'COUNTY_AREA_NAME'],\n",
       "      dtype='object')"
      ]
     },
     "execution_count": 4,
     "metadata": {},
     "output_type": "execute_result"
    }
   ],
   "source": [
    "df.columns"
   ]
  },
  {
   "cell_type": "code",
   "execution_count": 5,
   "metadata": {
    "scrolled": true
   },
   "outputs": [
    {
     "data": {
      "text/plain": [
       "1307"
      ]
     },
     "execution_count": 5,
     "metadata": {},
     "output_type": "execute_result"
    }
   ],
   "source": [
    "len(df)"
   ]
  },
  {
   "cell_type": "code",
   "execution_count": 8,
   "metadata": {},
   "outputs": [
    {
     "data": {
      "text/plain": [
       "937"
      ]
     },
     "execution_count": 8,
     "metadata": {},
     "output_type": "execute_result"
    }
   ],
   "source": [
    "len(np.unique(df.CITY))"
   ]
  },
  {
   "cell_type": "code",
   "execution_count": 10,
   "metadata": {},
   "outputs": [
    {
     "data": {
      "text/plain": [
       "1297"
      ]
     },
     "execution_count": 10,
     "metadata": {},
     "output_type": "execute_result"
    }
   ],
   "source": [
    "len(np.unique(df.NAME))"
   ]
  },
  {
   "cell_type": "code",
   "execution_count": 12,
   "metadata": {
    "scrolled": false
   },
   "outputs": [
    {
     "data": {
      "text/plain": [
       "['ACCOUNTING & BUDGET DEVELOPMENT',\n",
       " 'ACCOUNTING DEPARTMENT',\n",
       " 'ACCOUNTING SERVICES DEPARTMENT',\n",
       " 'ADMIN',\n",
       " 'ADMIN ASST',\n",
       " 'ADMIN OFFICE',\n",
       " 'ADMINISTRATION',\n",
       " 'ADMINISTRATION (MIS)',\n",
       " 'ADMINISTRATION BLD',\n",
       " 'ADMINISTRATION BUILDING',\n",
       " 'ADMINISTRATION/BOARD OFFICE',\n",
       " 'ADMINISTRATIVE OFFICE',\n",
       " 'ADMINISTRATIVE OFFICER',\n",
       " 'ADMINISTRATIVE OFFICES',\n",
       " 'ADMINISTRATIVE SERVICES',\n",
       " 'ADMINISTRATOR',\n",
       " 'ALL LOCATIONS',\n",
       " 'ALTERNATIVE EDUCATION PROGRAM',\n",
       " 'ASSISTANT BUSINESS ADMINISTRATOR',\n",
       " 'ASSISTANT BUSINESS MANAGER',\n",
       " 'ASSISTANT SUPERINTENDENT FOR BUSINESS SERVICE',\n",
       " 'ASSOCIATE SUPT',\n",
       " 'ASSOCIATE VICE PRESIDENT FINANCI',\n",
       " 'ASST SUPT FOR ADMINISTRATION',\n",
       " 'BARBARA NATELLE',\n",
       " 'BOARD CLERK',\n",
       " 'BOARD OF EDU OFFIC',\n",
       " 'BOARD OF EDUCATION',\n",
       " 'BOARD OF EDUCATION BOOKKEEPER',\n",
       " 'BOARD OFFICE',\n",
       " 'BOARD SECRETARY',\n",
       " 'BOOKKEEPER',\n",
       " 'BOSTON SCHOOL COMMITTEE SEC.',\n",
       " 'BUDGET AND FINANCE',\n",
       " 'BUISNESS OFFICE',\n",
       " 'BUS ADMIN',\n",
       " 'BUS MGR',\n",
       " 'BUSINESS',\n",
       " 'BUSINESS ADMINISTATOR',\n",
       " 'BUSINESS AND FINANCE',\n",
       " 'BUSINESS MANAGER',\n",
       " 'BUSINESS OFFICE',\n",
       " 'BUSINESS SUPV',\n",
       " 'CAREER CENTER DIRECTOR',\n",
       " 'CENTRAL',\n",
       " 'CENTRAL ADMINISTRATIVE',\n",
       " 'CENTRAL OFFICE',\n",
       " 'CHAIRPERSON',\n",
       " 'CLERK SCH BRD',\n",
       " 'CO SUPT OF SCHOOLS',\n",
       " 'COLEBROOK CONSOLIDATED',\n",
       " 'COMMISSIONERS',\n",
       " 'COMPTROLLER',\n",
       " 'CONNIE HARRELL COMPTROLLER',\n",
       " 'CONTROLLER',\n",
       " 'COUNTY SUPERINTENDENT',\n",
       " 'COUNTY SUPERINTENDENT OF SAD 32',\n",
       " 'DANBURY BOARD OF ED ADM',\n",
       " 'DEAN ADMINISTRATIVE SERVICES',\n",
       " 'DEAN OF ADMINISTRATION',\n",
       " 'DEAN OF FISCAL AFFAIRS',\n",
       " 'DEAN OF HUMAN RESOURCES',\n",
       " 'DEPARTMENT OF EDUCATION',\n",
       " 'DEPT OF FINANCE',\n",
       " 'DIR OF INSTITUTIONAL RESEARCH',\n",
       " 'DIR/INSTITIONAL',\n",
       " 'DIRECTOR',\n",
       " 'DIRECTOR FOR PERSONNEL',\n",
       " 'DIRECTOR OF BUSINESS AFFAIRS',\n",
       " 'DIRECTOR OF FISCAL AFFAIRS',\n",
       " 'DIRECTOR OF INSTITUTIONAL RESEARCH & PLANNING',\n",
       " 'DIRECTOR OF PERSONNEL',\n",
       " 'DIRECTOR OF RES & PLANNING',\n",
       " 'DIRECTOR OF RESEARCH & PLANNING',\n",
       " 'DIRECTOR OF SCHOOLS',\n",
       " 'DIRECTOR PLANNING & RESEARCH',\n",
       " 'DIRECTOR, FINANCE & OPERATIONS',\n",
       " 'DISTRICT ADMIN',\n",
       " 'DIV. OF STATE SCHOOLS-EUT',\n",
       " 'DIVISION SUPERINTENDENT',\n",
       " 'DONNA NEBLETT, DIRECTOR OF SCHOO',\n",
       " 'DR. CHARLES EDMONDS',\n",
       " 'EDUC SERV COORDINATOR',\n",
       " 'ELEM SCH COMM',\n",
       " 'ERVING ELEMENTARY SCHOOL',\n",
       " 'EXEC DIRECTOR OF PERSONNEL',\n",
       " 'EXECUTIVE',\n",
       " 'FINANCE',\n",
       " 'FINANCIAL SERVICES',\n",
       " 'FISCAL OFFICE',\n",
       " 'FISCAL SERVICES',\n",
       " 'GAIL RAINEAR BOARD SECRETARY',\n",
       " 'HUMAN RESOURCES',\n",
       " 'INST RESEARCH SPECIALIST',\n",
       " 'INSTITUTIONAL RESEARCH',\n",
       " 'LAKE COUNTY BOARD OF EDUCATION',\n",
       " 'LEVERETT ELEMENTARY SCHOOL',\n",
       " 'MAIN',\n",
       " 'OFFICE OF BUSINESS SERVICES',\n",
       " 'OFFICE OF SUPERINTENDENT',\n",
       " 'OFFICE OF SUPT',\n",
       " 'OFFICE OF THE ASSISTANT SUPERINTENDENT, ARTIF',\n",
       " 'OFFICE OF THE SUPERINTENDENT',\n",
       " 'OFFICE OF THE SUPERINTENDENT OF SCHOOLS',\n",
       " 'OFFICE OF THE SUPERINTENDNET',\n",
       " 'PAYROLL',\n",
       " 'PAYROLL COORDINATOR',\n",
       " 'PAYROLL OFFICE',\n",
       " 'PAYROLL PERSONNEL',\n",
       " 'PERSONNEL',\n",
       " 'PERSONNEL DEPARTMENT',\n",
       " 'PERSONNEL DEPT',\n",
       " 'PERSONNEL OFFICE',\n",
       " 'PERSONNEL RECORDS COORDINATOR',\n",
       " 'PLANNING AND EVALUATION',\n",
       " 'PRES',\n",
       " 'PRESIDENT',\n",
       " 'PRINCIPAL',\n",
       " 'RECEIVER',\n",
       " 'ROOM 107',\n",
       " 'ROSE ANN NORVILLE BOOKKEEPER',\n",
       " 'SAME',\n",
       " 'SANDEE KLUDG DIR OF SPL ED',\n",
       " 'SCH BD',\n",
       " 'SCH BUSINESS ADMIN/BD SEC',\n",
       " 'SCH COMM',\n",
       " 'SCH COMMITTEE',\n",
       " 'SCH SUPT',\n",
       " 'SCHOOL BOARD OFFICE',\n",
       " 'SCHOOL BOARD SECRETARY',\n",
       " 'SCHOOL BUSINESS ADMINISTRATOR',\n",
       " 'SCHOOL DEPARTMENT-SUPT',\n",
       " 'SCHOOLS SUPT',\n",
       " 'SEC SCH BD',\n",
       " 'SEC SCH COMM',\n",
       " 'SEC SCHOOL COMMITTEE',\n",
       " 'SECY',\n",
       " 'SECY SCH BD',\n",
       " 'SECY SCH COMM',\n",
       " 'SECY-SCH BOARD',\n",
       " 'SHERMAN SCHOOL',\n",
       " 'SOMERS BOARD OF EDUCATION',\n",
       " 'SUPERINTEDENT',\n",
       " 'SUPERINTENDENT',\n",
       " 'SUPERINTENDENT OF SCHOOLS',\n",
       " 'SUPERINTENDENT S',\n",
       " 'SUPERINTENDENT S OFFICE',\n",
       " 'SUPERINTENDENT SCH',\n",
       " \"SUPERINTENDENT'S SECRETARY\",\n",
       " 'SUPERINTENDENT: MR. MARION WISE',\n",
       " 'SUPERINTENDENTS OFFICE',\n",
       " 'SUPT',\n",
       " 'SUPT C/O SCHOOL UNION # 76',\n",
       " 'SUPT C/O SCHOOL UNION #76',\n",
       " 'SUPT COURTHOUSE',\n",
       " 'SUPT OF ED',\n",
       " 'SUPT OF SCH',\n",
       " 'SUPT OF SCH UNION 60',\n",
       " 'SUPT OF SCHOOLS',\n",
       " 'SUPT OF SCHS',\n",
       " 'SUPT OFFICE',\n",
       " 'SUPT SCHOOL UNION 102',\n",
       " 'SUPT SCHS',\n",
       " 'SUPT-FRANKLIN ELEM SCH',\n",
       " 'SUPT.',\n",
       " 'SUPT. N. BERKSHIRE SCHOOL UNION',\n",
       " 'SUPT. N. BERSKHI8RE SCHOOL UNION',\n",
       " 'SUPT. OF SCHOOLS',\n",
       " 'SUPTS OFFICE',\n",
       " 'SURRY ELEM SCHOOL',\n",
       " 'TREASURER',\n",
       " 'VICE PRESIDENT',\n",
       " 'VICE PRESIDENT FOR ADMINISTRATIV',\n",
       " 'VP OF OPERATIONS AND FINANCE',\n",
       " 'VP, FINANCE AND ADMINISTRATION']"
      ]
     },
     "execution_count": 12,
     "metadata": {},
     "output_type": "execute_result"
    }
   ],
   "source": [
    "list(np.unique(df.TITLE))"
   ]
  },
  {
   "cell_type": "code",
   "execution_count": null,
   "metadata": {},
   "outputs": [],
   "source": []
  }
 ],
 "metadata": {
  "kernelspec": {
   "display_name": "Python 3",
   "language": "python",
   "name": "python3"
  },
  "language_info": {
   "codemirror_mode": {
    "name": "ipython",
    "version": 3
   },
   "file_extension": ".py",
   "mimetype": "text/x-python",
   "name": "python",
   "nbconvert_exporter": "python",
   "pygments_lexer": "ipython3",
   "version": "3.8.2"
  }
 },
 "nbformat": 4,
 "nbformat_minor": 4
}
