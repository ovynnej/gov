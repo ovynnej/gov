{
 "cells": [
  {
   "cell_type": "markdown",
   "metadata": {},
   "source": [
    "# Find Jaccard Distance Threshold\n",
    "\n",
    "Find the Jaccard distance threshold between correct and incorrect\n",
    "- MISOS address matches\n",
    "- National Park name matches"
   ]
  },
  {
   "cell_type": "code",
   "execution_count": 1,
   "metadata": {},
   "outputs": [],
   "source": [
    "import io, nltk, requests\n",
    "import matplotlib.patches as mpatches\n",
    "import matplotlib.pyplot as plt\n",
    "import numpy as np\n",
    "import pandas as pd\n",
    "from datetime import date\n",
    "from htmldate import find_date\n",
    "from matplotlib.lines import Line2D\n",
    "from os import listdir\n",
    "from sklearn.cluster import KMeans\n",
    "from skimage.filters import threshold_otsu"
   ]
  },
  {
   "cell_type": "markdown",
   "metadata": {},
   "source": [
    "# Demo 1: Michigan Secretary of State Offices"
   ]
  },
  {
   "cell_type": "markdown",
   "metadata": {},
   "source": [
    "### Load ground truth"
   ]
  },
  {
   "cell_type": "code",
   "execution_count": 2,
   "metadata": {},
   "outputs": [],
   "source": [
    "df_misos_gt = pd.read_csv('./ground_truth/MISOS_Branches.csv')"
   ]
  },
  {
   "cell_type": "code",
   "execution_count": 3,
   "metadata": {},
   "outputs": [
    {
     "data": {
      "text/html": [
       "<div>\n",
       "<style scoped>\n",
       "    .dataframe tbody tr th:only-of-type {\n",
       "        vertical-align: middle;\n",
       "    }\n",
       "\n",
       "    .dataframe tbody tr th {\n",
       "        vertical-align: top;\n",
       "    }\n",
       "\n",
       "    .dataframe thead th {\n",
       "        text-align: right;\n",
       "    }\n",
       "</style>\n",
       "<table border=\"1\" class=\"dataframe\">\n",
       "  <thead>\n",
       "    <tr style=\"text-align: right;\">\n",
       "      <th></th>\n",
       "      <th>name</th>\n",
       "      <th>address</th>\n",
       "    </tr>\n",
       "  </thead>\n",
       "  <tbody>\n",
       "    <tr>\n",
       "      <th>0</th>\n",
       "      <td>Adrian</td>\n",
       "      <td>1040 S Winter Ste 2200, Adrian, MI 49221</td>\n",
       "    </tr>\n",
       "    <tr>\n",
       "      <th>1</th>\n",
       "      <td>Albion</td>\n",
       "      <td>308 S Superior St, Albion, MI 49224</td>\n",
       "    </tr>\n",
       "    <tr>\n",
       "      <th>2</th>\n",
       "      <td>Allegan</td>\n",
       "      <td>430 Western Ave, Allegan, MI 49010</td>\n",
       "    </tr>\n",
       "    <tr>\n",
       "      <th>3</th>\n",
       "      <td>Alma</td>\n",
       "      <td>1586 Wright Ave, Alma, MI 48801</td>\n",
       "    </tr>\n",
       "    <tr>\n",
       "      <th>4</th>\n",
       "      <td>Alpena</td>\n",
       "      <td>2666 US 23 South, Alpena, MI 49707</td>\n",
       "    </tr>\n",
       "  </tbody>\n",
       "</table>\n",
       "</div>"
      ],
      "text/plain": [
       "      name                                   address\n",
       "0   Adrian  1040 S Winter Ste 2200, Adrian, MI 49221\n",
       "1   Albion       308 S Superior St, Albion, MI 49224\n",
       "2  Allegan        430 Western Ave, Allegan, MI 49010\n",
       "3     Alma           1586 Wright Ave, Alma, MI 48801\n",
       "4   Alpena        2666 US 23 South, Alpena, MI 49707"
      ]
     },
     "execution_count": 3,
     "metadata": {},
     "output_type": "execute_result"
    }
   ],
   "source": [
    "df_misos_gt.head()"
   ]
  },
  {
   "cell_type": "markdown",
   "metadata": {},
   "source": [
    "### Load data to test"
   ]
  },
  {
   "cell_type": "code",
   "execution_count": 4,
   "metadata": {},
   "outputs": [],
   "source": [
    "path_misos_yp = './yellowpages/state+of+michigan+secretary+of+state+office-MI-yellowpages-scraped-data.csv'\n",
    "df_misos = pd.read_csv(path_misos_yp)"
   ]
  },
  {
   "cell_type": "code",
   "execution_count": 5,
   "metadata": {},
   "outputs": [
    {
     "data": {
      "text/html": [
       "<div>\n",
       "<style scoped>\n",
       "    .dataframe tbody tr th:only-of-type {\n",
       "        vertical-align: middle;\n",
       "    }\n",
       "\n",
       "    .dataframe tbody tr th {\n",
       "        vertical-align: top;\n",
       "    }\n",
       "\n",
       "    .dataframe thead th {\n",
       "        text-align: right;\n",
       "    }\n",
       "</style>\n",
       "<table border=\"1\" class=\"dataframe\">\n",
       "  <thead>\n",
       "    <tr style=\"text-align: right;\">\n",
       "      <th></th>\n",
       "      <th>rank</th>\n",
       "      <th>business_name</th>\n",
       "      <th>telephone</th>\n",
       "      <th>business_page</th>\n",
       "      <th>category</th>\n",
       "      <th>website</th>\n",
       "      <th>rating</th>\n",
       "      <th>street</th>\n",
       "      <th>locality</th>\n",
       "      <th>region</th>\n",
       "      <th>zipcode</th>\n",
       "      <th>listing_url</th>\n",
       "    </tr>\n",
       "  </thead>\n",
       "  <tbody>\n",
       "    <tr>\n",
       "      <th>0</th>\n",
       "      <td>1</td>\n",
       "      <td>Michigan Secretary Of State Branch Office</td>\n",
       "      <td>(888) 767-6424</td>\n",
       "      <td>https://www.yellowpages.com/sparta-mi/mip/mich...</td>\n",
       "      <td>State Government</td>\n",
       "      <td>http://www.michigan.gov</td>\n",
       "      <td>2.0</td>\n",
       "      <td>534 S State St</td>\n",
       "      <td>Sparta</td>\n",
       "      <td>MI</td>\n",
       "      <td>49345</td>\n",
       "      <td>https://www.yellowpages.com/search?search_term...</td>\n",
       "    </tr>\n",
       "    <tr>\n",
       "      <th>1</th>\n",
       "      <td>2</td>\n",
       "      <td>State of Michigan Secretary of State Branch Of...</td>\n",
       "      <td>(888) 767-6424</td>\n",
       "      <td>https://www.yellowpages.com/adrian-mi/mip/stat...</td>\n",
       "      <td>State Government</td>\n",
       "      <td>http://expresssos.com</td>\n",
       "      <td>NaN</td>\n",
       "      <td>1040 S Winter St</td>\n",
       "      <td>Adrian</td>\n",
       "      <td>MI</td>\n",
       "      <td>49221</td>\n",
       "      <td>https://www.yellowpages.com/search?search_term...</td>\n",
       "    </tr>\n",
       "    <tr>\n",
       "      <th>2</th>\n",
       "      <td>3</td>\n",
       "      <td>Michigan Department of State, Secretary of State</td>\n",
       "      <td>(888) 767-6424</td>\n",
       "      <td>https://www.yellowpages.com/brighton-mi/mip/mi...</td>\n",
       "      <td>Government Offices</td>\n",
       "      <td>NaN</td>\n",
       "      <td>NaN</td>\n",
       "      <td>9864 E Grand River Ste 130</td>\n",
       "      <td>Brighton</td>\n",
       "      <td>MI</td>\n",
       "      <td>48116</td>\n",
       "      <td>https://www.yellowpages.com/search?search_term...</td>\n",
       "    </tr>\n",
       "    <tr>\n",
       "      <th>3</th>\n",
       "      <td>4</td>\n",
       "      <td>State of Michigan Secretary of State Branch</td>\n",
       "      <td>(888) 767-6424</td>\n",
       "      <td>https://www.yellowpages.com/munising-mi/mip/st...</td>\n",
       "      <td>State Government,City, Village &amp; Township Gove...</td>\n",
       "      <td>NaN</td>\n",
       "      <td>NaN</td>\n",
       "      <td>NaN</td>\n",
       "      <td>Munising</td>\n",
       "      <td>MI</td>\n",
       "      <td>49862</td>\n",
       "      <td>https://www.yellowpages.com/search?search_term...</td>\n",
       "    </tr>\n",
       "    <tr>\n",
       "      <th>4</th>\n",
       "      <td>5</td>\n",
       "      <td>Secretary of State office</td>\n",
       "      <td>(888) 767-6424</td>\n",
       "      <td>https://www.yellowpages.com/traverse-city-mi/m...</td>\n",
       "      <td>State Government,Vehicle License &amp; Registratio...</td>\n",
       "      <td>http://expresssos.com</td>\n",
       "      <td>NaN</td>\n",
       "      <td>1759 Barlow St</td>\n",
       "      <td>Traverse City</td>\n",
       "      <td>MI</td>\n",
       "      <td>49686</td>\n",
       "      <td>https://www.yellowpages.com/search?search_term...</td>\n",
       "    </tr>\n",
       "  </tbody>\n",
       "</table>\n",
       "</div>"
      ],
      "text/plain": [
       "   rank                                      business_name       telephone  \\\n",
       "0     1          Michigan Secretary Of State Branch Office  (888) 767-6424   \n",
       "1     2  State of Michigan Secretary of State Branch Of...  (888) 767-6424   \n",
       "2     3   Michigan Department of State, Secretary of State  (888) 767-6424   \n",
       "3     4        State of Michigan Secretary of State Branch  (888) 767-6424   \n",
       "4     5                          Secretary of State office  (888) 767-6424   \n",
       "\n",
       "                                       business_page  \\\n",
       "0  https://www.yellowpages.com/sparta-mi/mip/mich...   \n",
       "1  https://www.yellowpages.com/adrian-mi/mip/stat...   \n",
       "2  https://www.yellowpages.com/brighton-mi/mip/mi...   \n",
       "3  https://www.yellowpages.com/munising-mi/mip/st...   \n",
       "4  https://www.yellowpages.com/traverse-city-mi/m...   \n",
       "\n",
       "                                            category                  website  \\\n",
       "0                                   State Government  http://www.michigan.gov   \n",
       "1                                   State Government    http://expresssos.com   \n",
       "2                                 Government Offices                      NaN   \n",
       "3  State Government,City, Village & Township Gove...                      NaN   \n",
       "4  State Government,Vehicle License & Registratio...    http://expresssos.com   \n",
       "\n",
       "   rating                      street       locality region  zipcode  \\\n",
       "0     2.0              534 S State St         Sparta     MI    49345   \n",
       "1     NaN            1040 S Winter St         Adrian     MI    49221   \n",
       "2     NaN  9864 E Grand River Ste 130       Brighton     MI    48116   \n",
       "3     NaN                         NaN       Munising     MI    49862   \n",
       "4     NaN              1759 Barlow St  Traverse City     MI    49686   \n",
       "\n",
       "                                         listing_url  \n",
       "0  https://www.yellowpages.com/search?search_term...  \n",
       "1  https://www.yellowpages.com/search?search_term...  \n",
       "2  https://www.yellowpages.com/search?search_term...  \n",
       "3  https://www.yellowpages.com/search?search_term...  \n",
       "4  https://www.yellowpages.com/search?search_term...  "
      ]
     },
     "execution_count": 5,
     "metadata": {},
     "output_type": "execute_result"
    }
   ],
   "source": [
    "df_misos.head()"
   ]
  },
  {
   "cell_type": "markdown",
   "metadata": {},
   "source": [
    "### Collect Jaccard distances.\n",
    "\n",
    "For each test address, find the Jaccard distance to every ground truth address.\n",
    "Collect the Jaccard distances for the matches in a separate list from the Jaccard distances for the non-matches.\n",
    "\n",
    "Use NLTK for convenience."
   ]
  },
  {
   "cell_type": "code",
   "execution_count": 6,
   "metadata": {
    "scrolled": false
   },
   "outputs": [
    {
     "name": "stdout",
     "output_type": "stream",
     "text": [
      "0.62 \t 534 S State St, Sparta, MI 49345\n",
      "Sparta\n",
      "0.63 \t 1040 S Winter Ste 2200, Adrian, MI 49221\n",
      "Adrian\n",
      "0.76 \t 1759 Barlow St PO Box 6220, Traverse City, MI 49686\n",
      "Traverse City\n",
      "0.64 \t 164 E. Columbia Ave, Belleville, MI 48111\n",
      "Belleville\n",
      "0.66 \t 672 N Milford Rd, Highland, MI 48357\n",
      "Highland\n",
      "0.58 \t 21572 Ecorse Rd, Taylor, MI 48180\n",
      "Taylor\n",
      "0.59 \t 31164 Beck Rd, Novi, MI 48377\n",
      "Novi\n",
      "0.56 \t 8565 N Lilley Rd, Canton, MI 48187\n",
      "Canton\n",
      "0.72 \t 7 Vans Ave, Coldwater, MI 49036\n",
      "Coldwater\n",
      "0.71 \t 5211 Cherry Avenue Plaza Suite 140, Hudsonville, MI 49426\n",
      "Hudsonville\n",
      "0.68 \t 305 Ludington, Escanaba, MI 49829\n",
      "Escanaba\n",
      "1.0 \t 5420 Beckley Road, Suite L, Battle Creek, MI 49015\n",
      "Battle Creek\n",
      "0.71 \t 50640 Schoenherr Rd Summit Center, Shelby Township, MI 48315\n",
      "Shelby Township\n",
      "0.77 \t 2887 Krafft Rd Court of Flags Mall, Port Huron, MI 48060\n",
      "Port Huron\n",
      "0.69 \t 2565 S Gladwin Rd PO Box 169, Prudenville, MI 48651\n",
      "Prudenville\n",
      "0.62 \t 37015 S Gratiot Ave, Clinton Township, MI 48036\n",
      "Clinton Township\n",
      "0.57 \t 1007 N Euclid Ave, Bay City, MI 48706\n",
      "Bay City\n",
      "0.69 \t 10577 Main St, Honor, MI 49640\n",
      "Honor\n",
      "0.65 \t 3298 Stadium Drive, Kalamazoo, MI 49008\n",
      "Kalamazoo\n",
      "0.59 \t 6090 N Wayne Rd, Westland, MI 48185\n",
      "Westland\n",
      "0.67 \t 206-A N Michigan Ave, Big Rapids, MI 49307\n",
      "Big Rapids\n",
      "0.69 \t 1448 Lawson Rd, Howell, MI 48843\n",
      "Howell\n",
      "0.66 \t 1184 Jackson Crossing, Jackson, MI 49202\n",
      "Jackson\n",
      "0.61 \t 110 E Main St, Niles, MI 49120\n",
      "Niles\n",
      "0.94 \t 1113 M-52 Village Plaza, Chelsea, MI 48118\n",
      "Chelsea\n",
      "0.53 \t 301 W Genesee St Suite 105, Lapeer, MI 48446\n",
      "Lapeer\n",
      "0.89 \t 1720 E. Main St, Owosso, MI 48867\n",
      "Owosso\n",
      "0.56 \t 13401 W 10 Mile Rd, Oak Park, MI 48237\n",
      "Oak Park\n",
      "0.6 \t 9001 Joseph Campau, Hamtramck, MI 48212\n",
      "Hamtramck\n",
      "0.68 \t 17176 Farmington Rd Burton Hollow Plaza, Livonia, MI 48152\n",
      "Livonia\n",
      "0.66 \t 3040 Van Horn, Trenton, MI 48183\n",
      "Trenton\n",
      "0.85 \t 1960 Mall Drive Orchards Park Shopping Center, Benton Harbor, MI 49022\n",
      "Benton Harbor\n"
     ]
    }
   ],
   "source": [
    "jd_match, jd_non_match = [], []\n",
    "for test_ind in df_misos.index:\n",
    "    test_address = df_misos.street[test_ind]\n",
    "    try:\n",
    "        test_chars = set(nltk.ngrams(test_address, n=3))\n",
    "    except:\n",
    "        continue # skip this cell if NaN i.e. value not available\n",
    "    for ind in df_misos_gt.index:\n",
    "        address = df_misos_gt.address[ind]\n",
    "        address_chars = set(nltk.ngrams(address, n=3))\n",
    "        jd = nltk.jaccard_distance(test_chars, address_chars)\n",
    "        \n",
    "        # if the test address and gt address are actually supposed to match\n",
    "        if df_misos_gt.name[ind] in df_misos.locality[test_ind]:\n",
    "            print(round(jd, 2), '\\t', address)\n",
    "            print(df_misos_gt.name[ind])\n",
    "            jd_match.append(jd)\n",
    "        else:\n",
    "            jd_non_match.append(jd)"
   ]
  },
  {
   "cell_type": "markdown",
   "metadata": {},
   "source": [
    "### Visualize the distribution of Jaccard distances."
   ]
  },
  {
   "cell_type": "code",
   "execution_count": 7,
   "metadata": {},
   "outputs": [],
   "source": [
    "colors = ['xkcd:green','xkcd:pink']"
   ]
  },
  {
   "cell_type": "code",
   "execution_count": 8,
   "metadata": {},
   "outputs": [
    {
     "data": {
      "image/png": "[encoded data removed]",
      "text/plain": [
       "<Figure size 576x288 with 1 Axes>"
      ]
     },
     "metadata": {
      "needs_background": "light"
     },
     "output_type": "display_data"
    }
   ],
   "source": [
    "width = 0.05\n",
    "plt.figure(figsize=(8, 4))\n",
    "plt.title('Jaccard Distances')\n",
    "plt.hist([jd_match, jd_non_match], bins=np.arange(0, 1+width, width)+width/2, color=colors, alpha=0.8, stacked=True)\n",
    "\n",
    "p_match = mpatches.Patch(color=colors[0], label='match')\n",
    "p_non_match = mpatches.Patch(color=colors[1], label='non-match')\n",
    "plt.legend(handles=[p_match, p_non_match], loc='upper left')\n",
    "\n",
    "plt.xticks(np.arange(0, 1+width, width), rotation=45)\n",
    "plt.xlabel('\\nJaccard Distance')\n",
    "plt.ylabel('Frequency\\n')\n",
    "plt.xlim(0.5, 1+width)\n",
    "plt.show()"
   ]
  },
  {
   "cell_type": "markdown",
   "metadata": {},
   "source": [
    "### Zooming in on the vertical axis..."
   ]
  },
  {
   "cell_type": "code",
   "execution_count": 9,
   "metadata": {},
   "outputs": [
    {
     "data": {
      "image/png": "[encoded data removed]",
      "text/plain": [
       "<Figure size 576x288 with 1 Axes>"
      ]
     },
     "metadata": {
      "needs_background": "light"
     },
     "output_type": "display_data"
    }
   ],
   "source": [
    "width = 0.05\n",
    "plt.figure(figsize=(8, 4))\n",
    "plt.title('Jaccard Distances')\n",
    "plt.hist([jd_match, jd_non_match], bins=np.arange(0, 1+width, width)+width/2, color=colors, alpha=0.8, stacked=True)\n",
    "\n",
    "p_match = mpatches.Patch(color=colors[0], label='match')\n",
    "p_non_match = mpatches.Patch(color=colors[1], label='non-match')\n",
    "plt.legend(handles=[p_match, p_non_match], loc='upper left')\n",
    "\n",
    "plt.xticks(np.arange(0, 1+width, width), rotation=45)\n",
    "plt.xlabel('\\nJaccard Distance')\n",
    "plt.ylabel('Frequency\\n')\n",
    "plt.xlim(0.5, 1+width)\n",
    "plt.ylim(0, 100)\n",
    "plt.show()"
   ]
  },
  {
   "cell_type": "markdown",
   "metadata": {},
   "source": [
    "**Observation:** The distribution looks bimodal. Can we programmatically find a good threshold between the modes?"
   ]
  },
  {
   "cell_type": "markdown",
   "metadata": {},
   "source": [
    "### Identify a threshold between the match and non-match Jaccard distances.\n",
    "- Use 1D k-means (k = 2)\n",
    "- Use Otsu's method"
   ]
  },
  {
   "cell_type": "code",
   "execution_count": 10,
   "metadata": {},
   "outputs": [],
   "source": [
    "total_list = jd_match + jd_non_match"
   ]
  },
  {
   "cell_type": "code",
   "execution_count": 11,
   "metadata": {},
   "outputs": [
    {
     "data": {
      "text/plain": [
       "0.8434284310061535"
      ]
     },
     "execution_count": 11,
     "metadata": {},
     "output_type": "execute_result"
    }
   ],
   "source": [
    "total_array = np.asarray(total_list)\n",
    "km = KMeans(n_clusters=2).fit(total_array.reshape(-1, 1))\n",
    "cluster_centers = km.cluster_centers_\n",
    "thresh_kmeans = (cluster_centers[0][0]+cluster_centers[1][0])/2\n",
    "thresh_kmeans"
   ]
  },
  {
   "cell_type": "code",
   "execution_count": 12,
   "metadata": {},
   "outputs": [
    {
     "data": {
      "text/plain": [
       "0.8410247093023255"
      ]
     },
     "execution_count": 12,
     "metadata": {},
     "output_type": "execute_result"
    }
   ],
   "source": [
    "thresh_otsu = threshold_otsu(total_array)\n",
    "thresh_otsu"
   ]
  },
  {
   "cell_type": "code",
   "execution_count": 13,
   "metadata": {},
   "outputs": [],
   "source": [
    "thresh_manual = 0.775"
   ]
  },
  {
   "cell_type": "markdown",
   "metadata": {},
   "source": [
    "### Visualize the distribution of Jaccard distances with the k-means, otsu, and manually determined thresholds."
   ]
  },
  {
   "cell_type": "code",
   "execution_count": 16,
   "metadata": {},
   "outputs": [
    {
     "data": {
      "image/png": "[encoded data removed]",
      "text/plain": [
       "<Figure size 1200x600 with 1 Axes>"
      ]
     },
     "metadata": {
      "needs_background": "light"
     },
     "output_type": "display_data"
    }
   ],
   "source": [
    "width = 0.05\n",
    "plt.figure(figsize=(8, 4), dpi=150)\n",
    "plt.hist([jd_match, jd_non_match], bins=np.arange(0, 1+width, width)+width/2, color=colors, alpha=0.8, stacked=True)\n",
    "plt.axvline(thresh_kmeans, color='xkcd:bright blue', ls='--')\n",
    "plt.axvline(thresh_otsu, color='xkcd:bright red', ls='--')\n",
    "plt.axvline(thresh_manual, color='xkcd:gray', ls='--')\n",
    "\n",
    "p_match = mpatches.Patch(color=colors[0], label='match')\n",
    "p_non_match = mpatches.Patch(color=colors[1], label='non-match')\n",
    "p_thresh_kmeans = Line2D([0], [0], color='xkcd:bright blue',linewidth=2, ls='--', label='k-means threshold = %s' % round(thresh_kmeans, 3))\n",
    "p_thresh_otsu = Line2D([0], [0], color='xkcd:bright red', linewidth=2, ls='--', label='otsu threshold = %s' % round(thresh_otsu, 3))\n",
    "p_thresh_manual = Line2D([0], [0], color='xkcd:gray', linewidth=2, ls='--', label='manual threshold = %s' % round(thresh_manual, 3))\n",
    "\n",
    "plt.legend(handles=[p_match, p_non_match, p_thresh_kmeans, p_thresh_otsu, p_thresh_manual],\n",
    "           loc='upper left')\n",
    "\n",
    "plt.xticks(np.arange(0, 1+width, width), rotation=45)\n",
    "plt.title('Jaccard Distances')\n",
    "plt.xlabel('Jaccard Distance')\n",
    "plt.ylabel('Frequency')\n",
    "plt.ylim(0, 100)\n",
    "plt.xlim(0.5, 1+width)\n",
    "plt.show()"
   ]
  },
  {
   "cell_type": "markdown",
   "metadata": {},
   "source": [
    "**Observation:** The k-means and otsu thresholds are about the same. The manually-found threshold minimizes false positives (detected matches that are actually not matches, i.e. amount of pink on the left side of the threshold line)."
   ]
  },
  {
   "cell_type": "markdown",
   "metadata": {},
   "source": [
    "# Demo 2: US National Parks"
   ]
  },
  {
   "cell_type": "code",
   "execution_count": 17,
   "metadata": {},
   "outputs": [],
   "source": [
    "df_gt = pd.read_csv('./ground_truth/national_parks_labeled.csv')\n",
    "df_wikidata = pd.read_csv('./wikidata/national_parks_sparql_labeled.csv')"
   ]
  },
  {
   "cell_type": "markdown",
   "metadata": {},
   "source": [
    "### Collect Jaccard distances."
   ]
  },
  {
   "cell_type": "code",
   "execution_count": 18,
   "metadata": {},
   "outputs": [
    {
     "name": "stdout",
     "output_type": "stream",
     "text": [
      "0.0 \t Acadia National Park\n",
      "Acadia National Park\n",
      "0.0 \t Acadia National Park\n",
      "Acadia National Park\n",
      "0.0 \t Arches National Park\n",
      "Arches National Park\n",
      "0.0 \t Badlands National Park\n",
      "Badlands National Park\n",
      "0.0 \t Big Bend National Park\n",
      "Big Bend National Park\n",
      "0.0 \t Big Bend National Park\n",
      "Big Bend National Park\n",
      "0.0 \t Biscayne National Park\n",
      "Biscayne National Park\n",
      "0.0 \t Black Canyon of the Gunnison National Park\n",
      "Black Canyon of the Gunnison National Park\n",
      "0.0 \t Bryce Canyon National Park\n",
      "Bryce Canyon National Park\n",
      "0.0 \t Canyonlands National Park\n",
      "Canyonlands National Park\n",
      "0.0 \t Capitol Reef National Park\n",
      "Capitol Reef National Park\n",
      "0.0 \t Carlsbad Caverns National Park\n",
      "Carlsbad Caverns National Park\n",
      "0.0 \t Channel Islands National Park\n",
      "Channel Islands National Park\n",
      "0.0 \t Congaree National Park\n",
      "Congaree National Park\n",
      "0.0 \t Crater Lake National Park\n",
      "Crater Lake National Park\n",
      "0.0 \t Cuyahoga Valley National Park\n",
      "Cuyahoga Valley National Park\n",
      "0.0 \t Death Valley National Park\n",
      "Death Valley National Park\n",
      "0.0 \t Dry Tortugas National Park\n",
      "Dry Tortugas National Park\n",
      "0.0 \t Everglades National Park\n",
      "Everglades National Park\n",
      "0.0 \t Gateway Arch National Park\n",
      "Gateway Arch National Park\n",
      "0.0 \t Glacier National Park\n",
      "Glacier National Park\n",
      "0.0 \t Grand Canyon National Park\n",
      "Grand Canyon National Park\n",
      "0.0 \t Grand Teton National Park\n",
      "Grand Teton National Park\n",
      "0.0 \t Great Basin National Park\n",
      "Great Basin National Park\n",
      "0.0 \t Great Smoky Mountains National Park\n",
      "Great Smoky Mountains National Park\n",
      "0.0 \t Guadalupe Mountains National Park\n",
      "Guadalupe Mountains National Park\n",
      "0.0 \t Haleakalā National Park\n",
      "Haleakalā National Park\n",
      "0.0 \t Haleakalā National Park\n",
      "Haleakalā National Park\n",
      "0.0 \t Hot Springs National Park\n",
      "Hot Springs National Park\n",
      "0.0 \t Indiana Dunes National Park\n",
      "Indiana Dunes National Park\n",
      "0.0 \t Indiana Dunes National Park\n",
      "Indiana Dunes National Park\n",
      "0.0 \t Isle Royale National Park\n",
      "Isle Royale National Park\n",
      "0.0 \t Joshua Tree National Park\n",
      "Joshua Tree National Park\n",
      "0.0 \t Joshua Tree National Park\n",
      "Joshua Tree National Park\n",
      "0.0 \t Kenai Fjords National Park\n",
      "Kenai Fjords National Park\n",
      "0.0 \t Kenai Fjords National Park\n",
      "Kenai Fjords National Park\n",
      "0.0 \t Kings Canyon National Park\n",
      "Kings Canyon National Park\n",
      "0.0 \t Kings Canyon National Park\n",
      "Kings Canyon National Park\n",
      "0.0 \t Kobuk Valley National Park\n",
      "Kobuk Valley National Park\n",
      "0.0 \t Kobuk Valley National Park\n",
      "Kobuk Valley National Park\n",
      "0.0 \t Lassen Volcanic National Park\n",
      "Lassen Volcanic National Park\n",
      "0.0 \t Mammoth Cave National Park\n",
      "Mammoth Cave National Park\n",
      "0.0 \t Mesa Verde National Park\n",
      "Mesa Verde National Park\n",
      "0.0 \t Mount Rainier National Park\n",
      "Mount Rainier National Park\n",
      "0.0 \t National Park of American Samoa\n",
      "National Park of American Samoa\n",
      "0.0 \t North Cascades National Park\n",
      "North Cascades National Park\n",
      "0.0 \t Olympic National Park\n",
      "Olympic National Park\n",
      "0.0 \t Petrified Forest National Park\n",
      "Petrified Forest National Park\n",
      "0.0 \t Pinnacles National Park\n",
      "Pinnacles National Park\n",
      "0.0 \t Redwood National Park\n",
      "Redwood National Park\n",
      "0.0 \t Rocky Mountain National Park\n",
      "Rocky Mountain National Park\n",
      "0.0 \t Saguaro National Park\n",
      "Saguaro National Park\n",
      "0.0 \t Sequoia National Park\n",
      "Sequoia National Park\n",
      "0.0 \t Shenandoah National Park\n",
      "Shenandoah National Park\n",
      "0.0 \t Theodore Roosevelt National Park\n",
      "Theodore Roosevelt National Park\n",
      "0.0 \t Virgin Islands National Park\n",
      "Virgin Islands National Park\n",
      "0.0 \t Virgin Islands National Park\n",
      "Virgin Islands National Park\n",
      "0.0 \t Virgin Islands National Park\n",
      "Virgin Islands National Park\n",
      "0.0 \t Virgin Islands National Park\n",
      "Virgin Islands National Park\n",
      "0.0 \t Voyageurs National Park\n",
      "Voyageurs National Park\n",
      "0.0 \t White Sands National Park\n",
      "White Sands National Park\n",
      "0.0 \t White Sands National Park\n",
      "White Sands National Park\n",
      "0.0 \t Wind Cave National Park\n",
      "Wind Cave National Park\n",
      "0.0 \t Yellowstone National Park\n",
      "Yellowstone National Park\n",
      "0.0 \t Yosemite National Park\n",
      "Yosemite National Park\n",
      "0.0 \t Zion National Park\n",
      "Zion National Park\n"
     ]
    }
   ],
   "source": [
    "jd_match, jd_non_match = [], []\n",
    "for test_ind in df_wikidata.index:\n",
    "    test_val = df_wikidata.entity_subclass_P31Label[test_ind]\n",
    "    try:\n",
    "        test_chars = set(nltk.ngrams(test_val, n=3))\n",
    "    except:\n",
    "        continue # skip this cell if NaN i.e. value not available\n",
    "    for ind in df_gt.index:\n",
    "        gt_val = df_gt.name[ind]\n",
    "        gt_chars = set(nltk.ngrams(gt_val, n=3))\n",
    "        jd = nltk.jaccard_distance(test_chars, gt_chars)\n",
    "        \n",
    "        # if the test value and gt value are actually supposed to match\n",
    "        if test_val==gt_val:\n",
    "            print(round(jd, 2), '\\t', gt_val)\n",
    "            print(df_gt.name[ind])\n",
    "            jd_match.append(jd)\n",
    "        else:\n",
    "            jd_non_match.append(jd)"
   ]
  },
  {
   "cell_type": "code",
   "execution_count": 19,
   "metadata": {},
   "outputs": [],
   "source": [
    "total_list = jd_match + jd_non_match\n",
    "total_array = np.asarray(total_list)\n",
    "km = KMeans(n_clusters=2).fit(total_array.reshape(-1, 1))\n",
    "cluster_centers = km.cluster_centers_\n",
    "thresh_kmeans = (cluster_centers[0][0]+cluster_centers[1][0])/2\n",
    "thresh_otsu = threshold_otsu(total_array)\n",
    "thresh_manual = 0.3"
   ]
  },
  {
   "cell_type": "markdown",
   "metadata": {},
   "source": [
    "### Visualize the distribution of Jaccard distances with the k-means, otsu, and manually determined thresholds."
   ]
  },
  {
   "cell_type": "code",
   "execution_count": 20,
   "metadata": {},
   "outputs": [
    {
     "data": {
      "image/png": "[encoded data removed]",
      "text/plain": [
       "<Figure size 1200x600 with 1 Axes>"
      ]
     },
     "metadata": {
      "needs_background": "light"
     },
     "output_type": "display_data"
    }
   ],
   "source": [
    "width = 0.05\n",
    "plt.figure(figsize=(8, 4), dpi=150)\n",
    "plt.hist([jd_match, jd_non_match], bins=np.arange(-width, 1+width, width)+width/2, color=colors, alpha=0.8, stacked=True)\n",
    "plt.axvline(thresh_kmeans, color='xkcd:bright blue', ls='--')\n",
    "plt.axvline(thresh_otsu, color='xkcd:bright red', ls='--')\n",
    "plt.axvline(thresh_manual, color='xkcd:gray', ls='--')\n",
    "\n",
    "p_match = mpatches.Patch(color=colors[0], label='match')\n",
    "p_non_match = mpatches.Patch(color=colors[1], label='non-match')\n",
    "p_thresh_kmeans = Line2D([0], [0], color='xkcd:bright blue',linewidth=2, ls='--', label='k-means threshold = %s' % round(thresh_kmeans, 3))\n",
    "p_thresh_otsu = Line2D([0], [0], color='xkcd:bright red', linewidth=2, ls='--', label='otsu threshold = %s' % round(thresh_otsu, 3))\n",
    "p_thresh_manual = Line2D([0], [0], color='xkcd:gray', linewidth=2, ls='--', label='manual threshold = %s' % round(thresh_manual, 3))\n",
    "\n",
    "plt.legend(handles=[p_match, p_non_match, p_thresh_kmeans, p_thresh_otsu, p_thresh_manual],\n",
    "           loc='upper left')\n",
    "\n",
    "plt.xticks(np.arange(0, 1+width, width), rotation=45)\n",
    "plt.title('Jaccard Distances')\n",
    "plt.xlabel('Jaccard Distance')\n",
    "plt.ylabel('Frequency')\n",
    "plt.show()"
   ]
  }
 ],
 "metadata": {
  "kernelspec": {
   "display_name": "Python 3",
   "language": "python",
   "name": "python3"
  },
  "language_info": {
   "codemirror_mode": {
    "name": "ipython",
    "version": 3
   },
   "file_extension": ".py",
   "mimetype": "text/x-python",
   "name": "python",
   "nbconvert_exporter": "python",
   "pygments_lexer": "ipython3",
   "version": "3.8.5"
  }
 },
 "nbformat": 4,
 "nbformat_minor": 4
}
